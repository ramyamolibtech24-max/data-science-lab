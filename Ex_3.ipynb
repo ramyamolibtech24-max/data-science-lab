{
 "cells": [
  {
   "cell_type": "markdown",
   "metadata": {},
   "source": [
    "# Descriptive Statistics \n",
    "\n",
    "\n",
    "**Descriptive Statistics** is the subject matter of this project. Descriptive statistics gives us the basic summary measures about the dataset.  The summary measures include measures of central tendency (mean, median and mode) and measures of variability (variance, standard deviation, minimum/maximum values, IQR (Interquartile Range), skewness and kurtosis). Data set  used in the lab is  fortune 500 dataset from the data world website for this project."
   ]
  },
  {
   "cell_type": "markdown",
   "metadata": {},
   "source": [
    "## Table of Contents\n",
    "\n",
    "\n",
    "1.\tIntroduction to descriptive statistics\n",
    "2.\tMeasures of central tendency\n",
    "    -\tMean\n",
    "    -\tMedian\n",
    "    -\tMode\n",
    "3.\tMeasures of dispersion\n",
    "    -\tVariance\n",
    "    -\tStandard deviation\n",
    "    -\tCoefficient of variation\n",
    "    -\tIQR (Interquartile range)\n",
    "    -\tSkewness\n",
    "    -\tKurtosis\n",
    "4.\tDataset description\n",
    "5.\tImport libraries\n",
    "6.\tImport dataset\n",
    "7.\tExploratory data analysis\n",
    "8.\tDescriptive statistics with `describe()` function\n",
    "    -\tSummary statistics of numerical columns\n",
    "    -\tSummary statistics of character columns\n",
    "    -\tSummary statistics of all the columns\n",
    "9.\tComputation of measures of central tendency\n",
    "    -\tMean\n",
    "    -\tMedian\n",
    "    -\tMode\n",
    "10.\tComputation of measures of dispersion or variability\n",
    "    -\tMinimum and maximum values\n",
    "    -\tRange\n",
    "    -\tVariance\n",
    "    -\tStandard deviation\n",
    "    -\tMedian\n",
    "    -\tInterquartile Range\n",
    "11.\tComputation of measures of shape of distribution\n",
    "    -\tSkewness\n",
    "    -\tKurtosis\n",
    "12.\tResults and conclusion\n",
    "\n"
   ]
  },
  {
   "cell_type": "markdown",
   "metadata": {},
   "source": [
    "## 1. Introduction to descriptive statistics\n",
    "\n",
    "\n",
    "Descriptive statistics are numbers that are used to describe and summarize the data. They are used to describe the basic features of the data under consideration. They provide simple summary measures which give an overview of the dataset. Summary measures that are commonly used to describe a data set are measures of central tendency and measures of variability or dispersion. \n",
    "\n",
    "\n",
    "Measures of central tendency include the `mean`, `median` and `mode`. These measures summarize a given data set by providing a single data point. These measures describe the center position of a distribution for a data set. We analyze the frequency of each data point in the distribution and describes it using the mean, median or mode. They provide the average of a data set. They can be either a representation of entire population or a sample of the population.\n",
    "\n",
    "\n",
    "Measures of variability or dispersion include the `variance` or `standard deviation`, `coefficient of variation`,  `minimum` and `maximum` values, `IQR (Interquartile Range)`,  `skewness and `kurtosis`. These measures help us to analyze how spread-out the distribution is for a dataset. So, they provide the shape of the data set.\n"
   ]
  },
  {
   "cell_type": "markdown",
   "metadata": {},
   "source": [
    "## 2. Measures of central tendency\n",
    "\n",
    "\n",
    "**Central tendency** means a central value which describe a probability distribution. It may also be called a center or location of the distribution. The most common measures of central tendency are **mean**, **median** and **mode**. The most common measure of central tendency is the **mean**. For skewed distribution or when there is concern about outliers, the **median** may be preferred. So, median is more robust measure than the mean.\n",
    "\n",
    "\n",
    "\n",
    "### Mean\n",
    "\n",
    "- The most common measure of central tendency is the mean.\n",
    "- Mean is also known as the simple average.\n",
    "- It is denoted by greek letter µ for population and by ¯x for sample.\n",
    "- We can find mean of a number of elements by adding all the elements in a dataset and then dividing by the number of elements  in the dataset.\n",
    "- It is the most common measure of central tendency but it has a drawback.\n",
    "- The mean is affected by the presence of outliers.\n",
    "- So, mean alone is not enough for making business decisions.\n",
    "\n",
    "\n",
    "### Median\n",
    "\n",
    "- Median is the number which divides the dataset into two equal halves.\n",
    "- To calculate the median, we have to arrange our dataset of n numbers in ascending order.\n",
    "- The median of this dataset is the number at (n+1)/2 th position, if n is odd.\n",
    "- If n is even, then the median is the average of the (n/2)th number and (n+2)/2 th number.\n",
    "- Median is robust to outliers.\n",
    "- So, for skewed distribution or when there is concern about outliers, the median may be preferred.\n",
    "\n",
    "\n",
    "### Mode\n",
    "\n",
    "- Mode of a dataset is the value that occurs most often in the dataset.\n",
    "- Mode is the value that has the highest frequency of occurrence in the dataset.\n",
    "\n",
    "\n",
    "There is no best measure that give us the complete picture. So, these measures of central tendency (mean, median and mode) should be used together to represent the full picture. \n",
    "\n"
   ]
  },
  {
   "cell_type": "markdown",
   "metadata": {},
   "source": [
    "## 3. Measures of dispersion or variability\n",
    "\n",
    "\n",
    "**Dispersion** is an indicator of how far away from the center, we can find the data values. The most common measures of dispersion are **variance**, **standard deviation** and **interquartile range (IQR)**. **Variance** is the standard measure of spread. The **standard deviation** is the square root of the variance. The **variance** and **standard deviation** are two useful measures of spread. \n",
    "\n",
    "\n",
    "\n",
    "### Variance\n",
    "\n",
    "-\tVariance measures the dispersion of a set of data points around their mean value.\n",
    "-\tIt is the mean of the squares of the individual deviations.\n",
    "-\tVariance gives results in the original units squared.\n",
    "\n",
    "\n",
    "\n",
    "### Standard deviation\n",
    "\n",
    "-\tStandard deviation is the most common used measure of variability.\n",
    "-\tIt is the square-root of the variance.\n",
    "-\tFor Normally distributed data, approximately 95% of the values lie within 2 s.d. of the mean. \n",
    "-\tStandard deviation gives results in the original units.\n",
    "\n",
    "\n",
    "### Coefficient of Variation (CV)\n",
    "\n",
    "-\tCoefficient of Variation (CV) is equal to the standard deviation divided by the mean.\n",
    "-\tIt is also known as `relative standard deviation`.\n",
    "\n",
    "\n",
    "### IQR (Interquartile range)\n",
    "\n",
    "-\tA third measure of spread is the **interquartile range (IQR)**.\n",
    "-\tThe IQR is calculated using the boundaries of data situated between the 1st and the 3rd quartiles. \n",
    "-\tThe interquartile range (IQR) can be calculated as follows:-\n",
    "       IQR = Q3 – Q1\n",
    "-\tIn the same way that the median is more robust than the mean, the IQR is a more robust measure of spread than variance and standard deviation and should therefore be preferred for small or asymmetrical distributions. \n",
    "-\tIt is a robust measure of spread.\n",
    "\n",
    "\n",
    "\n",
    "### Measures of shape\n",
    "\n",
    "Now, we will take a look at measures of shape of distribution. There are two statistical measures that can tell us about the shape of the distribution. These measures are **skewness** and **kurtosis**. These measures can be used to convey information about the shape of the distribution of the dataset.\n",
    "\n",
    "\n",
    "### Skewness\n",
    "-\t**Skewness** is a measure of a distribution's symmetry or more precisely lack of symmetry. \n",
    "-\tIt is used to mean the absence of symmetry from the mean of the dataset. \n",
    "-\tIt is a characteristic of the deviation from the mean. \n",
    "-\tIt is used to indicate the shape of the distribution of data.\n",
    "\n",
    "\n",
    "#### Negative skewness\n",
    "\n",
    "-\tNegative values for skewness indicate negative skewness. \n",
    "-\tIn this case, the data are skewed or tail to left. \n",
    "-\tBy skewed left, we mean that the left tail is long relative to the right tail. \n",
    "-\tThe data values may extend further to the left but concentrated in the right. \n",
    "-\tSo, there is a long tail and distortion is caused by extremely small values which pull the mean downward so that it is less than the median. \n",
    "-\tHence, in this case we have\n",
    "      **Mean < Median < Mode**\n",
    "      \n",
    "\n",
    "#### Zero skewness\n",
    "\n",
    "-\tZero skewness means skewness value of zero. \n",
    "-\tIt means the dataset is symmetrical. \n",
    "-\tA data set is symmetrical if it looks the same to the left and right to the center point. \n",
    "-\tThe dataset looks bell shaped or symmetrical. \n",
    "-\tA perfectly symmetrical data set will have a skewness of zero. \n",
    "-\tSo, the normal distribution which is perfectly symmetrical has a skewness of 0. \n",
    "-\tSo, in this case, we have\n",
    "      **Mean = Median = Mode**\n",
    "      \n",
    "\n",
    "#### Positive skewness\n",
    "\n",
    "-\tPositive values for skewness indicate positive skewness. \n",
    "-\tThe dataset are skewed or tail to right. \n",
    "-\tBy skewed right, we mean that the right tail is long relative to the left tail. \n",
    "-\tThe data values are concentrated in the right. \n",
    "-\tSo, there is a long tail to the right that is caused by extremely large values which pull the mean upward so that it is greater than the median. \n",
    "-\tSo, we have\n",
    "       **Mean > Median > Mode**\n",
    "       \n",
    "\n",
    "#### Reference range on skewness values\n",
    "\n",
    "The rule of thumb for skewness values are:\n",
    "\n",
    "-\tIf the skewness is between -0.5 and 0.5, the data are fairly symmetrical.\n",
    "-\tIf the skewness is between -1 and – 0.5 or between 0.5 and 1, the data are moderately skewed.\n",
    "-\tIf the skewness is less than -1 or greater than 1, the data are highly skewed.\n",
    "\n",
    "\n",
    "### Kurtosis\n",
    "\n",
    "-\tKurtosis is the degree of peakedness of a distribution. \n",
    "-\tData sets with high kurtosis tend to have a distinct peak near the mean, decline rather rapidly and have heavy tails.\n",
    "-\tData sets with low kurtosis tend to have a flat top near the mean rather than a sharp peak. \n",
    "\n",
    "\n",
    "#### Reference range for kurtosis\n",
    "-\tThe reference standard is a normal distribution, which has a kurtosis of 3. \n",
    "-\tOften, **excess kurtosis** is presented instead of kurtosis, where **excess kurtosis** is simply **kurtosis - 3**. \n",
    "\n",
    "#### Mesokurtic curve\n",
    "-\tA normal distribution has kurtosis exactly 3 (**excess kurtosis** exactly 0). \n",
    "-\tAny distribution with kurtosis ≈3 (excess ≈ 0) is called **mesokurtic**.\n",
    "\n",
    "#### Platykurtic curve\n",
    "-\tA distribution with kurtosis < 3 (**excess kurtosis** < 0) is called **platykurtic**. \n",
    "-\tAs compared to a normal distribution, its central peak is lower and broader, and its tails are shorter and thinner.\n",
    "\n",
    "#### Leptokurtic curve\n",
    "\n",
    "-\tA distribution with kurtosis > 3 (**excess kurtosis** > 0) is called **leptokurtic**. \n",
    "-\tAs compared to a normal distribution, its central peak is higher and sharper, and its tails are longer and fatter.\n",
    "\n",
    "\n",
    "\n",
    "### Summary\n",
    "\n",
    "\n",
    "So far, we have looked at the measures of central tendency of the data which include `mean`, `median` and `mode`. Also, we have taken a look at measures of spread of the data which consists of `variance`, `standard deviation`, `interquartile range (IQR)`, `minimum` and `maximum` values. We have also discussed `skewness` and `kurtosis` as measures of shape. These quantities can only be used for quantitative variables not for categorical variables.\n"
   ]
  },
  {
   "cell_type": "markdown",
   "metadata": {},
   "source": [
    "## 4. Dataset description\n",
    "\n",
    "\n",
    "I have used the `fortune 500 dataset` for this project. I have downloaded this dataset from the data world website. This data set can be downloaded from the following url –\n",
    "\n",
    "\n",
    "https://data.world/alexandra/fortune-500\n",
    "\n",
    "\n",
    "The data set consists of revenue and profit figures of fortune 500 companies along with their rank.\n"
   ]
  },
  {
   "cell_type": "markdown",
   "metadata": {},
   "source": [
    "## 5. Import libraries"
   ]
  },
  {
   "cell_type": "code",
   "execution_count": 2,
   "metadata": {},
   "outputs": [],
   "source": [
    "import pandas as pd\n",
    "import numpy as np\n",
    "import matplotlib.pyplot as plt\n",
    "import seaborn as sns\n",
    "%matplotlib inline"
   ]
  },
  {
   "cell_type": "markdown",
   "metadata": {},
   "source": [
    "### Ignore warnings"
   ]
  },
  {
   "cell_type": "markdown",
   "metadata": {},
   "source": [
    "## 6. Import dataset"
   ]
  },
  {
   "cell_type": "code",
   "execution_count": 3,
   "metadata": {},
   "outputs": [],
   "source": [
    "df = pd.read_csv(\"F500.csv\")\n",
    "\n"
   ]
  },
  {
   "cell_type": "markdown",
   "metadata": {},
   "source": [
    "## 7. Exploratory data analysis\n",
    "\n",
    "\n",
    "Explore the data to gain insights about the data."
   ]
  },
  {
   "cell_type": "markdown",
   "metadata": {},
   "source": [
    "### View dimensions of dataset"
   ]
  },
  {
   "cell_type": "code",
   "execution_count": 4,
   "metadata": {},
   "outputs": [
    {
     "data": {
      "text/plain": [
       "(13940, 5)"
      ]
     },
     "execution_count": 4,
     "metadata": {},
     "output_type": "execute_result"
    }
   ],
   "source": [
    "df.shape"
   ]
  },
  {
   "cell_type": "markdown",
   "metadata": {},
   "source": [
    "We can see that there are 13940 instances and 5 variables in the data set."
   ]
  },
  {
   "cell_type": "markdown",
   "metadata": {},
   "source": [
    "### Preview the dataset"
   ]
  },
  {
   "cell_type": "code",
   "execution_count": 5,
   "metadata": {},
   "outputs": [
    {
     "data": {
      "text/html": [
       "<div>\n",
       "<style scoped>\n",
       "    .dataframe tbody tr th:only-of-type {\n",
       "        vertical-align: middle;\n",
       "    }\n",
       "\n",
       "    .dataframe tbody tr th {\n",
       "        vertical-align: top;\n",
       "    }\n",
       "\n",
       "    .dataframe thead th {\n",
       "        text-align: right;\n",
       "    }\n",
       "</style>\n",
       "<table border=\"1\" class=\"dataframe\">\n",
       "  <thead>\n",
       "    <tr style=\"text-align: right;\">\n",
       "      <th></th>\n",
       "      <th>Company</th>\n",
       "      <th>Rank</th>\n",
       "      <th>Year</th>\n",
       "      <th>Revenue (in millions)</th>\n",
       "      <th>Profit (in millions)</th>\n",
       "    </tr>\n",
       "  </thead>\n",
       "  <tbody>\n",
       "    <tr>\n",
       "      <th>0</th>\n",
       "      <td>General Motors Corporation</td>\n",
       "      <td>1</td>\n",
       "      <td>1996</td>\n",
       "      <td>168828.6</td>\n",
       "      <td>NaN</td>\n",
       "    </tr>\n",
       "    <tr>\n",
       "      <th>1</th>\n",
       "      <td>Ford Motor Company</td>\n",
       "      <td>2</td>\n",
       "      <td>1996</td>\n",
       "      <td>137137.0</td>\n",
       "      <td>NaN</td>\n",
       "    </tr>\n",
       "    <tr>\n",
       "      <th>2</th>\n",
       "      <td>Exxon Corporation</td>\n",
       "      <td>3</td>\n",
       "      <td>1996</td>\n",
       "      <td>110009.0</td>\n",
       "      <td>NaN</td>\n",
       "    </tr>\n",
       "    <tr>\n",
       "      <th>3</th>\n",
       "      <td>Wal-Mart Stores, Inc.</td>\n",
       "      <td>4</td>\n",
       "      <td>1996</td>\n",
       "      <td>93627.0</td>\n",
       "      <td>NaN</td>\n",
       "    </tr>\n",
       "    <tr>\n",
       "      <th>4</th>\n",
       "      <td>AT&amp;T Corp.</td>\n",
       "      <td>5</td>\n",
       "      <td>1996</td>\n",
       "      <td>79609.0</td>\n",
       "      <td>NaN</td>\n",
       "    </tr>\n",
       "    <tr>\n",
       "      <th>...</th>\n",
       "      <td>...</td>\n",
       "      <td>...</td>\n",
       "      <td>...</td>\n",
       "      <td>...</td>\n",
       "      <td>...</td>\n",
       "    </tr>\n",
       "    <tr>\n",
       "      <th>13935</th>\n",
       "      <td>KKR</td>\n",
       "      <td>496</td>\n",
       "      <td>2023</td>\n",
       "      <td>7273.0</td>\n",
       "      <td>841.0</td>\n",
       "    </tr>\n",
       "    <tr>\n",
       "      <th>13936</th>\n",
       "      <td>Equinix</td>\n",
       "      <td>497</td>\n",
       "      <td>2023</td>\n",
       "      <td>7263.0</td>\n",
       "      <td>704.0</td>\n",
       "    </tr>\n",
       "    <tr>\n",
       "      <th>13937</th>\n",
       "      <td>Sonoco Products</td>\n",
       "      <td>498</td>\n",
       "      <td>2023</td>\n",
       "      <td>7251.0</td>\n",
       "      <td>466.0</td>\n",
       "    </tr>\n",
       "    <tr>\n",
       "      <th>13938</th>\n",
       "      <td>ServiceNow</td>\n",
       "      <td>499</td>\n",
       "      <td>2023</td>\n",
       "      <td>7245.0</td>\n",
       "      <td>325.0</td>\n",
       "    </tr>\n",
       "    <tr>\n",
       "      <th>13939</th>\n",
       "      <td>Robert Half International</td>\n",
       "      <td>500</td>\n",
       "      <td>2023</td>\n",
       "      <td>7238.0</td>\n",
       "      <td>658.0</td>\n",
       "    </tr>\n",
       "  </tbody>\n",
       "</table>\n",
       "<p>13940 rows × 5 columns</p>\n",
       "</div>"
      ],
      "text/plain": [
       "                          Company  Rank  Year  Revenue (in millions)  \\\n",
       "0      General Motors Corporation     1  1996               168828.6   \n",
       "1              Ford Motor Company     2  1996               137137.0   \n",
       "2               Exxon Corporation     3  1996               110009.0   \n",
       "3           Wal-Mart Stores, Inc.     4  1996                93627.0   \n",
       "4                      AT&T Corp.     5  1996                79609.0   \n",
       "...                           ...   ...   ...                    ...   \n",
       "13935                         KKR   496  2023                 7273.0   \n",
       "13936                     Equinix   497  2023                 7263.0   \n",
       "13937             Sonoco Products   498  2023                 7251.0   \n",
       "13938                  ServiceNow   499  2023                 7245.0   \n",
       "13939   Robert Half International   500  2023                 7238.0   \n",
       "\n",
       "       Profit (in millions)  \n",
       "0                       NaN  \n",
       "1                       NaN  \n",
       "2                       NaN  \n",
       "3                       NaN  \n",
       "4                       NaN  \n",
       "...                     ...  \n",
       "13935                 841.0  \n",
       "13936                 704.0  \n",
       "13937                 466.0  \n",
       "13938                 325.0  \n",
       "13939                 658.0  \n",
       "\n",
       "[13940 rows x 5 columns]"
      ]
     },
     "execution_count": 5,
     "metadata": {},
     "output_type": "execute_result"
    }
   ],
   "source": [
    "df"
   ]
  },
  {
   "cell_type": "markdown",
   "metadata": {},
   "source": [
    "### View summary of dataset"
   ]
  },
  {
   "cell_type": "code",
   "execution_count": 6,
   "metadata": {},
   "outputs": [
    {
     "name": "stdout",
     "output_type": "stream",
     "text": [
      "<class 'pandas.core.frame.DataFrame'>\n",
      "RangeIndex: 13940 entries, 0 to 13939\n",
      "Data columns (total 5 columns):\n",
      " #   Column                 Non-Null Count  Dtype  \n",
      "---  ------                 --------------  -----  \n",
      " 0   Company                13940 non-null  object \n",
      " 1   Rank                   13940 non-null  int64  \n",
      " 2   Year                   13940 non-null  int64  \n",
      " 3   Revenue (in millions)  13940 non-null  float64\n",
      " 4   Profit (in millions)   5497 non-null   float64\n",
      "dtypes: float64(2), int64(2), object(1)\n",
      "memory usage: 544.7+ KB\n"
     ]
    }
   ],
   "source": [
    "df.info()"
   ]
  },
  {
   "cell_type": "markdown",
   "metadata": {},
   "source": [
    "### Observations\n",
    "\n",
    "- We can see that the `Year` and `Rank` variables have integer data types as expected. The `Company` variable is of object data type. \n",
    "\n",
    "- The `Revenue (in millions)` variable is of float data type.\n",
    "\n",
    "- The `Profit (in millions)` variable is of object data type. "
   ]
  },
  {
   "cell_type": "markdown",
   "metadata": {},
   "source": [
    "### Check for missing values df.isnull().sum() "
   ]
  },
  {
   "cell_type": "code",
   "execution_count": 7,
   "metadata": {},
   "outputs": [
    {
     "data": {
      "text/plain": [
       "Company                     0\n",
       "Rank                        0\n",
       "Year                        0\n",
       "Revenue (in millions)       0\n",
       "Profit (in millions)     8443\n",
       "dtype: int64"
      ]
     },
     "execution_count": 7,
     "metadata": {},
     "output_type": "execute_result"
    }
   ],
   "source": [
    "df.isnull().sum()"
   ]
  },
  {
   "cell_type": "markdown",
   "metadata": {},
   "source": [
    "## 8. Descriptive statistics with `describe()` function\n",
    "\n",
    "\n",
    "\n",
    "Descriptive or summary statistics in python – pandas, can be obtained by using the `describe()` function. The `describe()` function gives us the `count`, `mean`, `standard deviation(std)`, `minimum`, `Q1(25%)`, `median(50%)`, `Q3(75%)`, `IQR(Q3 - Q1)` and `maximum` values.\n",
    "\n",
    "\n",
    "I will demonstrate the usage of `describe()` function as follows."
   ]
  },
  {
   "cell_type": "markdown",
   "metadata": {},
   "source": [
    "### Summary statistics of numerical columns"
   ]
  },
  {
   "cell_type": "code",
   "execution_count": 8,
   "metadata": {},
   "outputs": [
    {
     "data": {
      "text/html": [
       "<div>\n",
       "<style scoped>\n",
       "    .dataframe tbody tr th:only-of-type {\n",
       "        vertical-align: middle;\n",
       "    }\n",
       "\n",
       "    .dataframe tbody tr th {\n",
       "        vertical-align: top;\n",
       "    }\n",
       "\n",
       "    .dataframe thead th {\n",
       "        text-align: right;\n",
       "    }\n",
       "</style>\n",
       "<table border=\"1\" class=\"dataframe\">\n",
       "  <thead>\n",
       "    <tr style=\"text-align: right;\">\n",
       "      <th></th>\n",
       "      <th>Rank</th>\n",
       "      <th>Year</th>\n",
       "      <th>Revenue (in millions)</th>\n",
       "      <th>Profit (in millions)</th>\n",
       "    </tr>\n",
       "  </thead>\n",
       "  <tbody>\n",
       "    <tr>\n",
       "      <th>count</th>\n",
       "      <td>13940.000000</td>\n",
       "      <td>13940.000000</td>\n",
       "      <td>13940.000000</td>\n",
       "      <td>5497.000000</td>\n",
       "    </tr>\n",
       "    <tr>\n",
       "      <th>mean</th>\n",
       "      <td>250.511765</td>\n",
       "      <td>2009.537231</td>\n",
       "      <td>20225.158016</td>\n",
       "      <td>2501.271621</td>\n",
       "    </tr>\n",
       "    <tr>\n",
       "      <th>std</th>\n",
       "      <td>144.368022</td>\n",
       "      <td>8.071421</td>\n",
       "      <td>35994.023496</td>\n",
       "      <td>5626.509092</td>\n",
       "    </tr>\n",
       "    <tr>\n",
       "      <th>min</th>\n",
       "      <td>1.000000</td>\n",
       "      <td>1996.000000</td>\n",
       "      <td>48.290000</td>\n",
       "      <td>-12650.000000</td>\n",
       "    </tr>\n",
       "    <tr>\n",
       "      <th>25%</th>\n",
       "      <td>125.000000</td>\n",
       "      <td>2003.000000</td>\n",
       "      <td>5806.225000</td>\n",
       "      <td>390.000000</td>\n",
       "    </tr>\n",
       "    <tr>\n",
       "      <th>50%</th>\n",
       "      <td>250.500000</td>\n",
       "      <td>2010.000000</td>\n",
       "      <td>9587.500000</td>\n",
       "      <td>948.000000</td>\n",
       "    </tr>\n",
       "    <tr>\n",
       "      <th>75%</th>\n",
       "      <td>375.250000</td>\n",
       "      <td>2017.000000</td>\n",
       "      <td>19109.000000</td>\n",
       "      <td>2319.000000</td>\n",
       "    </tr>\n",
       "    <tr>\n",
       "      <th>max</th>\n",
       "      <td>500.000000</td>\n",
       "      <td>2023.000000</td>\n",
       "      <td>611289.000000</td>\n",
       "      <td>99803.000000</td>\n",
       "    </tr>\n",
       "  </tbody>\n",
       "</table>\n",
       "</div>"
      ],
      "text/plain": [
       "               Rank          Year  Revenue (in millions)  Profit (in millions)\n",
       "count  13940.000000  13940.000000           13940.000000           5497.000000\n",
       "mean     250.511765   2009.537231           20225.158016           2501.271621\n",
       "std      144.368022      8.071421           35994.023496           5626.509092\n",
       "min        1.000000   1996.000000              48.290000         -12650.000000\n",
       "25%      125.000000   2003.000000            5806.225000            390.000000\n",
       "50%      250.500000   2010.000000            9587.500000            948.000000\n",
       "75%      375.250000   2017.000000           19109.000000           2319.000000\n",
       "max      500.000000   2023.000000          611289.000000          99803.000000"
      ]
     },
     "execution_count": 8,
     "metadata": {},
     "output_type": "execute_result"
    }
   ],
   "source": [
    "df.describe()"
   ]
  },
  {
   "cell_type": "markdown",
   "metadata": {},
   "source": [
    "We can see that the `describe()` function excludes the character columns and gives summary statistics of numeric columns only."
   ]
  },
  {
   "cell_type": "markdown",
   "metadata": {},
   "source": [
    "### Summary statistics of character columns\n",
    "\n",
    "\n",
    "- The `describe()` function with an argument named `include` along with `value` object(include='object') gives the summary statistics of the character columns."
   ]
  },
  {
   "cell_type": "code",
   "execution_count": 9,
   "metadata": {},
   "outputs": [
    {
     "data": {
      "text/html": [
       "<div>\n",
       "<style scoped>\n",
       "    .dataframe tbody tr th:only-of-type {\n",
       "        vertical-align: middle;\n",
       "    }\n",
       "\n",
       "    .dataframe tbody tr th {\n",
       "        vertical-align: top;\n",
       "    }\n",
       "\n",
       "    .dataframe thead th {\n",
       "        text-align: right;\n",
       "    }\n",
       "</style>\n",
       "<table border=\"1\" class=\"dataframe\">\n",
       "  <thead>\n",
       "    <tr style=\"text-align: right;\">\n",
       "      <th></th>\n",
       "      <th>Company</th>\n",
       "    </tr>\n",
       "  </thead>\n",
       "  <tbody>\n",
       "    <tr>\n",
       "      <th>count</th>\n",
       "      <td>13940</td>\n",
       "    </tr>\n",
       "    <tr>\n",
       "      <th>unique</th>\n",
       "      <td>2255</td>\n",
       "    </tr>\n",
       "    <tr>\n",
       "      <th>top</th>\n",
       "      <td>U.S. Bancorp</td>\n",
       "    </tr>\n",
       "    <tr>\n",
       "      <th>freq</th>\n",
       "      <td>28</td>\n",
       "    </tr>\n",
       "  </tbody>\n",
       "</table>\n",
       "</div>"
      ],
      "text/plain": [
       "             Company\n",
       "count          13940\n",
       "unique          2255\n",
       "top     U.S. Bancorp\n",
       "freq              28"
      ]
     },
     "execution_count": 9,
     "metadata": {},
     "output_type": "execute_result"
    }
   ],
   "source": [
    "df.describe(include=\"object\")"
   ]
  },
  {
   "cell_type": "markdown",
   "metadata": {},
   "source": [
    "### Summary statistics of all the columns\n",
    "\n",
    "\n",
    "- The `describe()` function with include='all' gives the summary statistics of all the columns.\n",
    "\n",
    "\n",
    "- We need to add a variable named include='all' to get the summary statistics or descriptive statistics of both numeric and character columns."
   ]
  },
  {
   "cell_type": "code",
   "execution_count": 10,
   "metadata": {},
   "outputs": [
    {
     "data": {
      "text/html": [
       "<div>\n",
       "<style scoped>\n",
       "    .dataframe tbody tr th:only-of-type {\n",
       "        vertical-align: middle;\n",
       "    }\n",
       "\n",
       "    .dataframe tbody tr th {\n",
       "        vertical-align: top;\n",
       "    }\n",
       "\n",
       "    .dataframe thead th {\n",
       "        text-align: right;\n",
       "    }\n",
       "</style>\n",
       "<table border=\"1\" class=\"dataframe\">\n",
       "  <thead>\n",
       "    <tr style=\"text-align: right;\">\n",
       "      <th></th>\n",
       "      <th>Company</th>\n",
       "      <th>Rank</th>\n",
       "      <th>Year</th>\n",
       "      <th>Revenue (in millions)</th>\n",
       "      <th>Profit (in millions)</th>\n",
       "    </tr>\n",
       "  </thead>\n",
       "  <tbody>\n",
       "    <tr>\n",
       "      <th>count</th>\n",
       "      <td>13940</td>\n",
       "      <td>13940.000000</td>\n",
       "      <td>13940.000000</td>\n",
       "      <td>13940.000000</td>\n",
       "      <td>5497.000000</td>\n",
       "    </tr>\n",
       "    <tr>\n",
       "      <th>unique</th>\n",
       "      <td>2255</td>\n",
       "      <td>NaN</td>\n",
       "      <td>NaN</td>\n",
       "      <td>NaN</td>\n",
       "      <td>NaN</td>\n",
       "    </tr>\n",
       "    <tr>\n",
       "      <th>top</th>\n",
       "      <td>U.S. Bancorp</td>\n",
       "      <td>NaN</td>\n",
       "      <td>NaN</td>\n",
       "      <td>NaN</td>\n",
       "      <td>NaN</td>\n",
       "    </tr>\n",
       "    <tr>\n",
       "      <th>freq</th>\n",
       "      <td>28</td>\n",
       "      <td>NaN</td>\n",
       "      <td>NaN</td>\n",
       "      <td>NaN</td>\n",
       "      <td>NaN</td>\n",
       "    </tr>\n",
       "    <tr>\n",
       "      <th>mean</th>\n",
       "      <td>NaN</td>\n",
       "      <td>250.511765</td>\n",
       "      <td>2009.537231</td>\n",
       "      <td>20225.158016</td>\n",
       "      <td>2501.271621</td>\n",
       "    </tr>\n",
       "    <tr>\n",
       "      <th>std</th>\n",
       "      <td>NaN</td>\n",
       "      <td>144.368022</td>\n",
       "      <td>8.071421</td>\n",
       "      <td>35994.023496</td>\n",
       "      <td>5626.509092</td>\n",
       "    </tr>\n",
       "    <tr>\n",
       "      <th>min</th>\n",
       "      <td>NaN</td>\n",
       "      <td>1.000000</td>\n",
       "      <td>1996.000000</td>\n",
       "      <td>48.290000</td>\n",
       "      <td>-12650.000000</td>\n",
       "    </tr>\n",
       "    <tr>\n",
       "      <th>25%</th>\n",
       "      <td>NaN</td>\n",
       "      <td>125.000000</td>\n",
       "      <td>2003.000000</td>\n",
       "      <td>5806.225000</td>\n",
       "      <td>390.000000</td>\n",
       "    </tr>\n",
       "    <tr>\n",
       "      <th>50%</th>\n",
       "      <td>NaN</td>\n",
       "      <td>250.500000</td>\n",
       "      <td>2010.000000</td>\n",
       "      <td>9587.500000</td>\n",
       "      <td>948.000000</td>\n",
       "    </tr>\n",
       "    <tr>\n",
       "      <th>75%</th>\n",
       "      <td>NaN</td>\n",
       "      <td>375.250000</td>\n",
       "      <td>2017.000000</td>\n",
       "      <td>19109.000000</td>\n",
       "      <td>2319.000000</td>\n",
       "    </tr>\n",
       "    <tr>\n",
       "      <th>max</th>\n",
       "      <td>NaN</td>\n",
       "      <td>500.000000</td>\n",
       "      <td>2023.000000</td>\n",
       "      <td>611289.000000</td>\n",
       "      <td>99803.000000</td>\n",
       "    </tr>\n",
       "  </tbody>\n",
       "</table>\n",
       "</div>"
      ],
      "text/plain": [
       "             Company          Rank          Year  Revenue (in millions)  \\\n",
       "count          13940  13940.000000  13940.000000           13940.000000   \n",
       "unique          2255           NaN           NaN                    NaN   \n",
       "top     U.S. Bancorp           NaN           NaN                    NaN   \n",
       "freq              28           NaN           NaN                    NaN   \n",
       "mean             NaN    250.511765   2009.537231           20225.158016   \n",
       "std              NaN    144.368022      8.071421           35994.023496   \n",
       "min              NaN      1.000000   1996.000000              48.290000   \n",
       "25%              NaN    125.000000   2003.000000            5806.225000   \n",
       "50%              NaN    250.500000   2010.000000            9587.500000   \n",
       "75%              NaN    375.250000   2017.000000           19109.000000   \n",
       "max              NaN    500.000000   2023.000000          611289.000000   \n",
       "\n",
       "        Profit (in millions)  \n",
       "count            5497.000000  \n",
       "unique                   NaN  \n",
       "top                      NaN  \n",
       "freq                     NaN  \n",
       "mean             2501.271621  \n",
       "std              5626.509092  \n",
       "min            -12650.000000  \n",
       "25%               390.000000  \n",
       "50%               948.000000  \n",
       "75%              2319.000000  \n",
       "max             99803.000000  "
      ]
     },
     "execution_count": 10,
     "metadata": {},
     "output_type": "execute_result"
    }
   ],
   "source": [
    "df.describe(include=\"all\")"
   ]
  },
  {
   "cell_type": "markdown",
   "metadata": {},
   "source": [
    "## 9. Computation of measures of central tendency \n",
    "\n",
    "\n",
    "- In this section, I will compute the measures of central tendency - mean, median and mode. \n",
    "\n",
    "- These statistics give us a approximate value of the middle of a numeric variable.\n",
    "\n",
    "- I will use the `Revenue (in millions)` variable for calculations."
   ]
  },
  {
   "cell_type": "markdown",
   "metadata": {},
   "source": [
    "### Mean"
   ]
  },
  {
   "cell_type": "code",
   "execution_count": 11,
   "metadata": {},
   "outputs": [
    {
     "name": "stdout",
     "output_type": "stream",
     "text": [
      "20225.158015781923\n"
     ]
    }
   ],
   "source": [
    "Mean= df[\"Revenue (in millions)\"].mean()\n",
    "print(Mean)\n",
    "\n"
   ]
  },
  {
   "cell_type": "markdown",
   "metadata": {},
   "source": [
    "### Median"
   ]
  },
  {
   "cell_type": "code",
   "execution_count": 12,
   "metadata": {},
   "outputs": [
    {
     "name": "stdout",
     "output_type": "stream",
     "text": [
      "9587.5\n"
     ]
    }
   ],
   "source": [
    "\n",
    "Median =df[\"Revenue (in millions)\"].median()\n",
    "print(Median)\n"
   ]
  },
  {
   "cell_type": "markdown",
   "metadata": {},
   "source": [
    "### Mode"
   ]
  },
  {
   "cell_type": "code",
   "execution_count": 13,
   "metadata": {},
   "outputs": [
    {
     "name": "stdout",
     "output_type": "stream",
     "text": [
      "0    5810.0\n",
      "1    5853.0\n",
      "2    6691.0\n",
      "3    9061.0\n",
      "Name: Revenue (in millions), dtype: float64\n"
     ]
    }
   ],
   "source": [
    "Mode =df[\"Revenue (in millions)\"].mode()\n",
    "print(Mode)\n",
    "\n",
    "\n"
   ]
  },
  {
   "cell_type": "markdown",
   "metadata": {},
   "source": [
    "### Observation\n",
    "\n",
    "\n",
    "- We can see that `mean > median > mode`. So, the distribution of `Revenue (in millions)` is positively skewed. I will plot its distribution to confirm the same."
   ]
  },
  {
   "cell_type": "markdown",
   "metadata": {},
   "source": [
    "### Plot the distribution "
   ]
  },
  {
   "cell_type": "code",
   "execution_count": 14,
   "metadata": {},
   "outputs": [
    {
     "data": {
      "image/png": "[encoded data removed]",
      "text/plain": [
       "<Figure size 500x500 with 1 Axes>"
      ]
     },
     "metadata": {},
     "output_type": "display_data"
    }
   ],
   "source": [
    "data = df['Revenue (in millions)']\n",
    "sns.displot(data=data)\n",
    "plt.show()"
   ]
  },
  {
   "cell_type": "markdown",
   "metadata": {},
   "source": [
    "The above plot confirms that the `Revenue (in millions)` is positively skewed."
   ]
  },
  {
   "cell_type": "markdown",
   "metadata": {},
   "source": [
    "## 10. Computation of measures of dispersion or variability\n",
    "\n",
    "\n",
    "- In this section, we will compute the measures of dispersion or variability - minimum and maximum values, range, variance, standard-deviation, IQR. \n",
    "\n",
    "- Again, we will use the `Revenue (in millions)` variable for calculations.\n"
   ]
  },
  {
   "cell_type": "markdown",
   "metadata": {},
   "source": [
    "### Minimum value"
   ]
  },
  {
   "cell_type": "code",
   "execution_count": 15,
   "metadata": {},
   "outputs": [
    {
     "name": "stdout",
     "output_type": "stream",
     "text": [
      "48.29\n"
     ]
    }
   ],
   "source": [
    "Min = df['Revenue (in millions)'].min()\n",
    "print(Min)"
   ]
  },
  {
   "cell_type": "markdown",
   "metadata": {},
   "source": [
    "### Maximum value"
   ]
  },
  {
   "cell_type": "code",
   "execution_count": 16,
   "metadata": {},
   "outputs": [
    {
     "name": "stdout",
     "output_type": "stream",
     "text": [
      "611289.0\n"
     ]
    }
   ],
   "source": [
    "Max = df['Revenue (in millions)'].max()\n",
    "print(Max)"
   ]
  },
  {
   "cell_type": "markdown",
   "metadata": {},
   "source": [
    "### Range"
   ]
  },
  {
   "cell_type": "code",
   "execution_count": 17,
   "metadata": {},
   "outputs": [
    {
     "name": "stdout",
     "output_type": "stream",
     "text": [
      "611240.71\n"
     ]
    }
   ],
   "source": [
    "Range = Max - Min\n",
    "print(Range)"
   ]
  },
  {
   "cell_type": "markdown",
   "metadata": {},
   "source": [
    "### Variance"
   ]
  },
  {
   "cell_type": "code",
   "execution_count": 18,
   "metadata": {},
   "outputs": [
    {
     "name": "stdout",
     "output_type": "stream",
     "text": [
      "1295569727.4622889\n"
     ]
    }
   ],
   "source": [
    "Var =df['Revenue (in millions)'].var()\n",
    "print(Var)"
   ]
  },
  {
   "cell_type": "markdown",
   "metadata": {},
   "source": [
    "### Standard deviation"
   ]
  },
  {
   "cell_type": "code",
   "execution_count": 19,
   "metadata": {},
   "outputs": [
    {
     "name": "stdout",
     "output_type": "stream",
     "text": [
      "35994.0234964402\n"
     ]
    }
   ],
   "source": [
    "Std =df['Revenue (in millions)'].std()\n",
    "print(Std)"
   ]
  },
  {
   "cell_type": "markdown",
   "metadata": {},
   "source": [
    "### Median (Q2 or 50th percentile) Q2 = df['Revenue (in millions)'].quantile(0.5)"
   ]
  },
  {
   "cell_type": "code",
   "execution_count": 20,
   "metadata": {},
   "outputs": [
    {
     "name": "stdout",
     "output_type": "stream",
     "text": [
      "9587.5\n"
     ]
    }
   ],
   "source": [
    "q2= df['Revenue (in millions)'].quantile(0.5)\n",
    "print(q2)\n",
    "\n"
   ]
  },
  {
   "cell_type": "markdown",
   "metadata": {},
   "source": [
    "### Q3 or 75th percentile"
   ]
  },
  {
   "cell_type": "code",
   "execution_count": 21,
   "metadata": {},
   "outputs": [
    {
     "name": "stdout",
     "output_type": "stream",
     "text": [
      "19109.0\n"
     ]
    }
   ],
   "source": [
    "q3= df['Revenue (in millions)'].quantile(0.75)\n",
    "print(q3)\n"
   ]
  },
  {
   "cell_type": "markdown",
   "metadata": {},
   "source": [
    "### Q1 or 25th percentile"
   ]
  },
  {
   "cell_type": "code",
   "execution_count": 22,
   "metadata": {},
   "outputs": [
    {
     "name": "stdout",
     "output_type": "stream",
     "text": [
      "5806.225\n"
     ]
    }
   ],
   "source": [
    "q1= df['Revenue (in millions)'].quantile(0.25)\n",
    "print(q1)\n"
   ]
  },
  {
   "cell_type": "markdown",
   "metadata": {},
   "source": [
    "### Interquartile Range\n"
   ]
  },
  {
   "cell_type": "code",
   "execution_count": 23,
   "metadata": {},
   "outputs": [
    {
     "data": {
      "text/plain": [
       "np.float64(13302.775)"
      ]
     },
     "execution_count": 23,
     "metadata": {},
     "output_type": "execute_result"
    }
   ],
   "source": [
    "IQR = q3  - q1\n",
    "\n",
    "IQR"
   ]
  },
  {
   "cell_type": "markdown",
   "metadata": {},
   "source": [
    "### Draw boxplot"
   ]
  },
  {
   "cell_type": "code",
   "execution_count": 24,
   "metadata": {},
   "outputs": [
    {
     "data": {
      "image/png": "[encoded data removed]",
      "text/plain": [
       "<Figure size 640x480 with 1 Axes>"
      ]
     },
     "metadata": {},
     "output_type": "display_data"
    }
   ],
   "source": [
    "plt.boxplot(df['Revenue (in millions)'])\n",
    "\n",
    "plt.show()"
   ]
  },
  {
   "cell_type": "markdown",
   "metadata": {},
   "source": [
    "## 11. Computation of measures of shape of distribution\n",
    "\n",
    "\n",
    "- In this section, we will compute the measures of shape of distribution - skewness and kurtosis. \n",
    "\n",
    "- Again, we will use the `Revenue (in millions)` variable for calculations.\n"
   ]
  },
  {
   "cell_type": "markdown",
   "metadata": {},
   "source": [
    "### Skewness\n"
   ]
  },
  {
   "cell_type": "code",
   "execution_count": 25,
   "metadata": {},
   "outputs": [
    {
     "data": {
      "text/plain": [
       "np.float64(6.355594826690244)"
      ]
     },
     "execution_count": 25,
     "metadata": {},
     "output_type": "execute_result"
    }
   ],
   "source": [
    "Skew =df['Revenue (in millions)'].skew()\n",
    "Skew"
   ]
  },
  {
   "cell_type": "markdown",
   "metadata": {},
   "source": [
    "### Interpretation\n",
    "\n",
    "The skewness to be 6.3555. So, it is greater than 1. Hence, we can conclude that the `Revenue (in millions)` data is highly skewed."
   ]
  },
  {
   "cell_type": "markdown",
   "metadata": {},
   "source": [
    "### Kurtosis"
   ]
  },
  {
   "cell_type": "code",
   "execution_count": 26,
   "metadata": {},
   "outputs": [
    {
     "data": {
      "text/plain": [
       "np.float64(60.28831785450257)"
      ]
     },
     "execution_count": 26,
     "metadata": {},
     "output_type": "execute_result"
    }
   ],
   "source": [
    "Kurtosis = df['Revenue (in millions)'].kurtosis()\n",
    "Kurtosis"
   ]
  },
  {
   "cell_type": "markdown",
   "metadata": {},
   "source": [
    "### Interpretation\n",
    "\n",
    " kurtosis to be 60.28 . So, it is greater than 3 and so excess kurtosis > 0. Hence, we can conclude that the `Revenue (in millions)` curve is a leptokurtic curve. As compared to a normal distribution, its central peak is higher and sharper, and its tails are longer and fatter."
   ]
  },
  {
   "cell_type": "markdown",
   "metadata": {
    "jp-MarkdownHeadingCollapsed": true
   },
   "source": [
    "# Income-Expenditure Dataset\n",
    "\n",
    "## 1. Income & Expenditure\n",
    "### What is the **mean, median, and mode** of `Mthly_HH_Income`?  \n",
    "###  Compare the **mean and median** of `Mthly_HH_Expense`. What does this tell you about expenditure distribution?  \n",
    "### Find the **range** of monthly household income.  \n",
    "### Which household has the **highest income-to-expense ratio**?  \n",
    "\n",
    "\n",
    "\n",
    "## 2. Family Structure\n",
    "### What is the **average number of family members** per household?  \n",
    "###  Find the **standard deviation** of `No_of_Fly_Members`. Is family size consistent across households?  \n",
    "###  Compare `No_of_Earning_Members` with `No_of_Fly_Members`. Which household has the **highest dependency ratio** (non-earning ÷ total members)?  \n",
    "\n",
    "\n",
    "\n",
    "## 3. Housing & EMI\n",
    "###  What is the **average EMI or rent amount** as a percentage of monthly income?  \n",
    "###  Identify households where `Emi_or_Rent_Amt` exceeds **40% of `Mthly_HH_Income`**.  \n",
    "### Which household has the **lowest disposable income** (`Mthly_HH_Income - Mthly_HH_Expense - Emi_or_Rent_Amt`)?  \n",
    "\n",
    "\n",
    "\n",
    "## 4. Annual Income & Qualification\n",
    "###  Verify whether `Annual_HH_Income` is consistent with `Mthly_HH_Income × 12`. If not, identify discrepancies.  \n",
    "### Group households by `Highest_Qualified_Member` (e.g., Graduate, Postgraduate, PhD). What is the **average monthly income** in each group?  \n",
    "### Does **higher qualification** correlate with **higher household income**? Support with mean/median values.  \n",
    "\n",
    "\n",
    "\n",
    "## 5. Outliers & Correlation\n",
    "### Detect **outliers** in `Mthly_HH_Income` using the **Z-score method**.  \n",
    "###  Compute the **correlation** between `Mthly_HH_Income` and `Mthly_HH_Expense`. Is the relationship strong?  \n",
    "###  Is there a significant correlation between `No_of_Earning_Members` and `Mthly_HH_Income`?  \n"
   ]
  },
  {
   "cell_type": "markdown",
   "metadata": {},
   "source": [
    "# Income-Expenditure Dataset\n",
    "\n",
    "## 1. Income & Expenditure\n",
    "### What is the **mean, median, and mode** of `Mthly_HH_Income`?  \n",
    "###  Compare the **mean and median** of `Mthly_HH_Expense`. What does this tell you about expenditure distribution?  \n",
    "### Find the **range** of monthly household income.  \n",
    "### Which household has the **highest income-to-expense ratio**?  \n",
    "\n",
    "\n",
    "\n",
    "## 2. Family Structure\n",
    "### What is the **average number of family members** per household?  \n",
    "###  Find the **standard deviation** of `No_of_Fly_Members`. Is family size consistent across households?  \n",
    "###  Compare `No_of_Earning_Members` with `No_of_Fly_Members`. Which household has the **highest dependency ratio** (non-earning ÷ total members)?  \n",
    "\n",
    "\n",
    "\n",
    "## 3. Housing & EMI\n",
    "###  What is the **average EMI or rent amount** as a percentage of monthly income?  \n",
    "###  Identify households where `Emi_or_Rent_Amt` exceeds **40% of `Mthly_HH_Income`**.  \n",
    "### Which household has the **lowest disposable income** (`Mthly_HH_Income - Mthly_HH_Expense - Emi_or_Rent_Amt`)?  \n",
    "\n",
    "\n",
    "\n",
    "## 4. Annual Income & Qualification\n",
    "###  Verify whether `Annual_HH_Income` is consistent with `Mthly_HH_Income × 12`. If not, identify discrepancies.  \n",
    "### Group households by `Highest_Qualified_Member` (e.g., Graduate, Postgraduate, PhD). What is the **average monthly income** in each group?  \n",
    "### Does **higher qualification** correlate with **higher household income**? Support with mean/median values.  \n",
    "\n",
    "\n",
    "\n",
    "## 5. Outliers & Correlation\n",
    "### Detect **outliers** in `Mthly_HH_Income` using the **Z-score method**.  \n",
    "###  Compute the **correlation** between `Mthly_HH_Income` and `Mthly_HH_Expense`. Is the relationship strong?  \n",
    "###  Is there a significant correlation between `No_of_Earning_Members` and `Mthly_HH_Income`?  \n"
   ]
  },
  {
   "cell_type": "code",
   "execution_count": 34,
   "metadata": {},
   "outputs": [
    {
     "name": "stdout",
     "output_type": "stream",
     "text": [
      "18818.0\n",
      "15500.0\n",
      "0    25000\n",
      "Name: Mthly_HH_Expense, dtype: int64\n"
     ]
    }
   ],
   "source": [
    "##1. Income & Expenditure\n",
    "df = pd.read_csv(\"Inc_Exp_Data - Inc_Exp_Data.csv\")\n",
    "print(df['Mthly_HH_Expense'].mean())\n",
    "print(df['Mthly_HH_Expense'].median())\n",
    "print(df['Mthly_HH_Expense'].mode())\n"
   ]
  },
  {
   "cell_type": "code",
   "execution_count": 39,
   "metadata": {},
   "outputs": [
    {
     "data": {
      "text/plain": [
       "<seaborn.axisgrid.FacetGrid at 0x1b7f4c52490>"
      ]
     },
     "execution_count": 39,
     "metadata": {},
     "output_type": "execute_result"
    }
   ],
   "source": [
    "# mode>mean>median so left skewed\n",
    "data = df['Mthly_HH_Expense']\n",
    "\n",
    "sns.displot(df, x='Mthly_HH_Expense', bins=10, kde=True)"
   ]
  },
  {
   "cell_type": "code",
   "execution_count": 38,
   "metadata": {},
   "outputs": [
    {
     "name": "stdout",
     "output_type": "stream",
     "text": [
      "2000 - 50000\n"
     ]
    }
   ],
   "source": [
    "#Find the range of monthly household income.\n",
    "print(df['Mthly_HH_Expense'].min(),'-',df['Mthly_HH_Expense'].max())"
   ]
  },
  {
   "cell_type": "code",
   "execution_count": 40,
   "metadata": {},
   "outputs": [
    {
     "name": "stdout",
     "output_type": "stream",
     "text": [
      "7.777777777777778\n"
     ]
    }
   ],
   "source": [
    "#Which household has the highest income-to-expense ratio?\n",
    "Income_Expense_Ratio = df['Mthly_HH_Income'] / df['Mthly_HH_Expense']\n",
    "\n",
    "max_ratio_household = float(Income_Expense_Ratio.max())\n",
    "\n",
    "print(max_ratio_household)"
   ]
  },
  {
   "cell_type": "code",
   "execution_count": 41,
   "metadata": {},
   "outputs": [
    {
     "name": "stdout",
     "output_type": "stream",
     "text": [
      "4.06\n"
     ]
    }
   ],
   "source": [
    "#7. Family Structure\n",
    "#What is the average number of family members per household?\n",
    "print(df['No_of_Fly_Members'].mean())"
   ]
  },
  {
   "cell_type": "code",
   "execution_count": 42,
   "metadata": {},
   "outputs": [
    {
     "name": "stdout",
     "output_type": "stream",
     "text": [
      "1.5173822786601394\n"
     ]
    }
   ],
   "source": [
    "#Find the standard deviation of No_of_Fly_Members. Is family size consistent across households?\n",
    "print(df['No_of_Fly_Members'].std())"
   ]
  },
  {
   "cell_type": "code",
   "execution_count": 43,
   "metadata": {},
   "outputs": [
    {
     "name": "stdout",
     "output_type": "stream",
     "text": [
      "    No_of_Fly_Members  No_of_Earning_Members\n",
      "0                   3                      1\n",
      "1                   2                      1\n",
      "2                   2                      1\n",
      "3                   1                      1\n",
      "4                   2                      1\n",
      "5                   2                      1\n",
      "6                   3                      1\n",
      "7                   5                      1\n",
      "8                   2                      1\n",
      "9                   4                      2\n",
      "10                  4                      2\n",
      "11                  6                      1\n",
      "12                  3                      1\n",
      "13                  6                      2\n",
      "14                  4                      2\n",
      "15                  3                      1\n",
      "16                  3                      1\n",
      "17                  6                      3\n",
      "18                  2                      1\n",
      "19                  4                      1\n",
      "20                  5                      1\n",
      "21                  4                      1\n",
      "22                  6                      1\n",
      "23                  3                      1\n",
      "24                  3                      1\n",
      "25                  4                      2\n",
      "26                  4                      1\n",
      "27                  4                      1\n",
      "28                  4                      1\n",
      "29                  4                      1\n",
      "30                  6                      3\n",
      "31                  6                      2\n",
      "32                  2                      1\n",
      "33                  4                      1\n",
      "34                  5                      1\n",
      "35                  7                      4\n",
      "36                  4                      1\n",
      "37                  3                      2\n",
      "38                  6                      2\n",
      "39                  3                      1\n",
      "40                  6                      1\n",
      "41                  4                      2\n",
      "42                  2                      1\n",
      "43                  4                      1\n",
      "44                  5                      2\n",
      "45                  7                      3\n",
      "46                  5                      2\n",
      "47                  6                      3\n",
      "48                  4                      2\n",
      "49                  6                      1\n",
      "Total: 203 , 73\n"
     ]
    }
   ],
   "source": [
    "#Compare No_of_Earning_Members with No_of_Fly_Members.\n",
    "print(df[['No_of_Fly_Members', 'No_of_Earning_Members']])\n",
    "print('Total:',df['No_of_Fly_Members'].sum(),',',df['No_of_Earning_Members'].sum())"
   ]
  },
  {
   "cell_type": "code",
   "execution_count": 44,
   "metadata": {},
   "outputs": [
    {
     "name": "stdout",
     "output_type": "stream",
     "text": [
      "0.8333333333333334\n"
     ]
    }
   ],
   "source": [
    "#Which household has the highest dependency ratio (non-earning ÷ total members)?\n",
    "Dependency_Ratio = (df['No_of_Fly_Members'] - df['No_of_Earning_Members']) / df['No_of_Fly_Members']\n",
    "\n",
    "max_dep_household = Dependency_Ratio.max()\n",
    "\n",
    "print(max_dep_household)"
   ]
  },
  {
   "cell_type": "code",
   "execution_count": 45,
   "metadata": {},
   "outputs": [
    {
     "name": "stdout",
     "output_type": "stream",
     "text": [
      "0      40.000000\n",
      "1      50.000000\n",
      "2       0.000000\n",
      "3       0.000000\n",
      "4      24.000000\n",
      "5       0.000000\n",
      "6     233.333333\n",
      "7      44.444444\n",
      "8       0.000000\n",
      "9       0.000000\n",
      "10     40.000000\n",
      "11     54.545455\n",
      "12      0.000000\n",
      "13      0.000000\n",
      "14      0.000000\n",
      "15      0.000000\n",
      "16     14.000000\n",
      "17      0.000000\n",
      "18      6.896552\n",
      "19      0.000000\n",
      "20     16.393443\n",
      "21      0.000000\n",
      "22      0.000000\n",
      "23     11.764706\n",
      "24      0.000000\n",
      "25      0.000000\n",
      "26      0.000000\n",
      "27      0.000000\n",
      "28      0.000000\n",
      "29      0.000000\n",
      "30      0.000000\n",
      "31      7.777778\n",
      "32      2.222222\n",
      "33      5.555556\n",
      "34      7.608696\n",
      "35      0.000000\n",
      "36      0.000000\n",
      "37      0.000000\n",
      "38     21.818182\n",
      "39      0.000000\n",
      "40     16.666667\n",
      "41      7.692308\n",
      "42      0.000000\n",
      "43      0.000000\n",
      "44      0.000000\n",
      "45      0.000000\n",
      "46      0.000000\n",
      "47      0.000000\n",
      "48     20.000000\n",
      "49     10.000000\n",
      "dtype: float64\n"
     ]
    }
   ],
   "source": [
    "#What is the average EMI or rent amount as a percentage of monthly income?\n",
    "print((df['Emi_or_Rent_Amt'] / df['Mthly_HH_Income']) * 100)"
   ]
  },
  {
   "cell_type": "code",
   "execution_count": 46,
   "metadata": {},
   "outputs": [
    {
     "name": "stdout",
     "output_type": "stream",
     "text": [
      "0     False\n",
      "1      True\n",
      "2     False\n",
      "3     False\n",
      "4     False\n",
      "5     False\n",
      "6      True\n",
      "7      True\n",
      "8     False\n",
      "9     False\n",
      "10    False\n",
      "11     True\n",
      "12    False\n",
      "13    False\n",
      "14    False\n",
      "15    False\n",
      "16    False\n",
      "17    False\n",
      "18    False\n",
      "19    False\n",
      "20    False\n",
      "21    False\n",
      "22    False\n",
      "23    False\n",
      "24    False\n",
      "25    False\n",
      "26    False\n",
      "27    False\n",
      "28    False\n",
      "29    False\n",
      "30    False\n",
      "31    False\n",
      "32    False\n",
      "33    False\n",
      "34    False\n",
      "35    False\n",
      "36    False\n",
      "37    False\n",
      "38    False\n",
      "39    False\n",
      "40    False\n",
      "41    False\n",
      "42    False\n",
      "43    False\n",
      "44    False\n",
      "45    False\n",
      "46    False\n",
      "47    False\n",
      "48    False\n",
      "49    False\n",
      "dtype: bool\n"
     ]
    }
   ],
   "source": [
    "#Identify households where Emi_or_Rent_Amt exceeds 40% of Mthly_HH_Income.\n",
    "print(((df['Emi_or_Rent_Amt'] / df['Mthly_HH_Income']) * 100)>40)"
   ]
  },
  {
   "cell_type": "code",
   "execution_count": 47,
   "metadata": {},
   "outputs": [
    {
     "name": "stdout",
     "output_type": "stream",
     "text": [
      "Household with lowest disposable income:\n",
      "-36000\n"
     ]
    }
   ],
   "source": [
    "#Which household has the lowest disposable income (Mthly_HH_Income - Mthly_HH_Expense - Emi_or_Rent_Amt)?\n",
    "lowest_disp_household = (df['Mthly_HH_Income'] - df['Mthly_HH_Expense'] - df['Emi_or_Rent_Amt']).min()\n",
    "\n",
    "\n",
    "print(\"Household with lowest disposable income:\")\n",
    "print(lowest_disp_household)"
   ]
  },
  {
   "cell_type": "code",
   "execution_count": 49,
   "metadata": {},
   "outputs": [
    {
     "name": "stdout",
     "output_type": "stream",
     "text": [
      "Households with discrepancies between annual and monthly × 12 income:\n",
      "    Mthly_HH_Income  Annual_HH_Income\n",
      "0              5000             64200\n",
      "1              6000             79920\n",
      "2             10000            112800\n",
      "3             10000             97200\n",
      "4             12500            147000\n",
      "5             14000            196560\n",
      "6             15000            167400\n",
      "8             19000            218880\n",
      "9             20000            220800\n",
      "10            20000            278400\n",
      "11            22000            279840\n",
      "12            23400            292032\n",
      "13            24000            316800\n",
      "14            24000            244800\n",
      "15            25000            246000\n",
      "16            25000            261000\n",
      "17            25000            258000\n",
      "19            30000            385200\n",
      "20            30500            351360\n",
      "21            32000            445440\n",
      "22            34000            330480\n",
      "23            34000            469200\n",
      "24            35000            466200\n",
      "25            35000            449400\n",
      "26            39000            556920\n",
      "27            40000            412800\n",
      "28            42000            488880\n",
      "29            43000            619200\n",
      "30            45000            523800\n",
      "31            45000            507600\n",
      "32            45000            437400\n",
      "33            45000            610200\n",
      "34            46000            596160\n",
      "35            47000            456840\n",
      "36            50000            570000\n",
      "37            50500            581760\n",
      "38            55000            600600\n",
      "39            60000            590400\n",
      "40            60000            590400\n",
      "41            65000            647400\n",
      "42            70000            756000\n",
      "43            80000           1075200\n",
      "44            85000           1142400\n",
      "45            90000            885600\n",
      "46            98000           1152480\n",
      "47           100000           1404000\n",
      "48           100000           1032000\n",
      "49           100000           1320000\n"
     ]
    }
   ],
   "source": [
    "#9. Annual Income & Qualification\n",
    "\n",
    "discrepancies = df.loc[df['Annual_HH_Income'] != df['Mthly_HH_Income'] * 12,\n",
    "                       ['Mthly_HH_Income', 'Annual_HH_Income']]\n",
    "\n",
    "print(\"Households with discrepancies between annual and monthly × 12 income:\")\n",
    "print(discrepancies)"
   ]
  },
  {
   "cell_type": "code",
   "execution_count": 50,
   "metadata": {},
   "outputs": [
    {
     "name": "stdout",
     "output_type": "stream",
     "text": [
      "Average Monthly Income by Qualification:\n",
      "Highest_Qualified_Member\n",
      "Graduate          40921.052632\n",
      "Illiterate        25280.000000\n",
      "Post-Graduate     59166.666667\n",
      "Professional      52550.000000\n",
      "Under-Graduate    29350.000000\n",
      "Name: Mthly_HH_Income, dtype: float64\n"
     ]
    }
   ],
   "source": [
    "avg_income_by_qual = df.groupby('Highest_Qualified_Member')['Mthly_HH_Income'].mean()\n",
    "print(\"Average Monthly Income by Qualification:\")\n",
    "print(avg_income_by_qual)"
   ]
  },
  {
   "cell_type": "code",
   "execution_count": 51,
   "metadata": {},
   "outputs": [
    {
     "name": "stdout",
     "output_type": "stream",
     "text": [
      "Income statistics by qualification:\n",
      "                                  mean   median\n",
      "Highest_Qualified_Member                       \n",
      "Graduate                  40921.052632  35000.0\n",
      "Illiterate                25280.000000  22000.0\n",
      "Post-Graduate             59166.666667  52500.0\n",
      "Professional              52550.000000  46000.0\n",
      "Under-Graduate            29350.000000  22500.0\n"
     ]
    }
   ],
   "source": [
    "income_stats = df.groupby('Highest_Qualified_Member')['Mthly_HH_Income'].agg(['mean', 'median'])\n",
    "print(\"Income statistics by qualification:\")\n",
    "print(income_stats)"
   ]
  },
  {
   "cell_type": "code",
   "execution_count": 52,
   "metadata": {},
   "outputs": [
    {
     "name": "stdout",
     "output_type": "stream",
     "text": [
      "Outliers in Mthly_HH_Income:\n",
      "Empty DataFrame\n",
      "Columns: [Mthly_HH_Income]\n",
      "Index: []\n",
      "Correlation between Income and Expense: 0.6492152549316462\n",
      "Correlation between No_of_Earning_Members and Income: 0.34788345602238385\n"
     ]
    }
   ],
   "source": [
    "#Outliers & Correlation\n",
    "#Detect outliers in Mthly_HH_Income using the Z-score method.\n",
    "from scipy.stats import zscore\n",
    "\n",
    "z_scores = zscore(df['Mthly_HH_Income'])\n",
    "\n",
    "outliers = (-3) > df.loc[abs(z_scores) > 3, ['Mthly_HH_Income']]\n",
    "print(\"Outliers in Mthly_HH_Income:\")\n",
    "print(outliers)\n",
    "\n",
    "income_exp_corr = df['Mthly_HH_Income'].corr(df['Mthly_HH_Expense'])\n",
    "print(\"Correlation between Income and Expense:\", income_exp_corr)\n",
    "\n",
    "earnings_corr = df['No_of_Earning_Members'].corr(df['Mthly_HH_Income'])\n",
    "print(\"Correlation between No_of_Earning_Members and Income:\", earnings_corr)\n"
   ]
  },
  {
   "cell_type": "code",
   "execution_count": null,
   "metadata": {},
   "outputs": [],
   "source": []
  }
 ],
 "metadata": {
  "kernelspec": {
   "display_name": "Python 3 (ipykernel)",
   "language": "python",
   "name": "python3"
  },
  "language_info": {
   "codemirror_mode": {
    "name": "ipython",
    "version": 3
   },
   "file_extension": ".py",
   "mimetype": "text/x-python",
   "name": "python",
   "nbconvert_exporter": "python",
   "pygments_lexer": "ipython3",
   "version": "3.13.5"
  }
 },
 "nbformat": 4,
 "nbformat_minor": 4
}
